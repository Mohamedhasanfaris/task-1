{
 "cells": [
  {
   "cell_type": "code",
   "execution_count": 1,
   "id": "b37d9753",
   "metadata": {},
   "outputs": [],
   "source": [
    "import cv2\n",
    "import numpy as np"
   ]
  },
  {
   "cell_type": "code",
   "execution_count": 2,
   "id": "5bbf508a",
   "metadata": {},
   "outputs": [],
   "source": [
    "img = cv2.imread(\"flight.jpg\")"
   ]
  },
  {
   "cell_type": "code",
   "execution_count": 3,
   "id": "c8f58f3a",
   "metadata": {},
   "outputs": [
    {
     "data": {
      "text/plain": [
       "-1"
      ]
     },
     "execution_count": 3,
     "metadata": {},
     "output_type": "execute_result"
    }
   ],
   "source": [
    "cv2.imshow(\"Original\",img)\n",
    "cv2.waitKey(0)"
   ]
  },
  {
   "cell_type": "code",
   "execution_count": 4,
   "id": "5fb17e3e",
   "metadata": {},
   "outputs": [],
   "source": [
    "avg = cv2.blur(img,(8,8))"
   ]
  },
  {
   "cell_type": "code",
   "execution_count": 5,
   "id": "2e1d37c8",
   "metadata": {},
   "outputs": [
    {
     "data": {
      "text/plain": [
       "-1"
      ]
     },
     "execution_count": 5,
     "metadata": {},
     "output_type": "execute_result"
    }
   ],
   "source": [
    "cv2.imshow(\"Original\",img)\n",
    "cv2.waitKey(0)\n",
    "cv2.imshow(\"avg\",avg)\n",
    "cv2.waitKey(0)"
   ]
  },
  {
   "cell_type": "code",
   "execution_count": 6,
   "id": "06579282",
   "metadata": {},
   "outputs": [
    {
     "data": {
      "text/plain": [
       "True"
      ]
     },
     "execution_count": 6,
     "metadata": {},
     "output_type": "execute_result"
    }
   ],
   "source": [
    "cv2.imwrite(\"C:/Users/aedpu/HASAN_CSE_AI/Average Blur.png\",avg)"
   ]
  },
  {
   "cell_type": "code",
   "execution_count": 7,
   "id": "d4c26c73",
   "metadata": {},
   "outputs": [],
   "source": [
    "gauss = cv2.GaussianBlur(img,(5,5),5)"
   ]
  },
  {
   "cell_type": "code",
   "execution_count": 8,
   "id": "128d1aa1",
   "metadata": {},
   "outputs": [
    {
     "data": {
      "text/plain": [
       "-1"
      ]
     },
     "execution_count": 8,
     "metadata": {},
     "output_type": "execute_result"
    }
   ],
   "source": [
    "cv2.imshow(\"Original\",img)\n",
    "cv2.waitKey(0)\n",
    "cv2.imshow(\"gaussian\",gauss)\n",
    "cv2.waitKey(0)"
   ]
  },
  {
   "cell_type": "code",
   "execution_count": 9,
   "id": "109b5bbd",
   "metadata": {},
   "outputs": [
    {
     "data": {
      "text/plain": [
       "True"
      ]
     },
     "execution_count": 9,
     "metadata": {},
     "output_type": "execute_result"
    }
   ],
   "source": [
    "cv2.imwrite(\"C:/Users/aedpu/HASAN_CSE_AI/Gaussian Blur.jpg\",gauss)"
   ]
  },
  {
   "cell_type": "code",
   "execution_count": 21,
   "id": "cbcd64bc",
   "metadata": {},
   "outputs": [],
   "source": [
    "medi = cv2.medianBlur(img,5)"
   ]
  },
  {
   "cell_type": "code",
   "execution_count": 22,
   "id": "e0892675",
   "metadata": {},
   "outputs": [
    {
     "data": {
      "text/plain": [
       "-1"
      ]
     },
     "execution_count": 22,
     "metadata": {},
     "output_type": "execute_result"
    }
   ],
   "source": [
    "cv2.imshow(\"Original\",img)\n",
    "cv2.waitKey(0)\n",
    "cv2.imshow(\"Median\",medi)\n",
    "cv2.waitKey(0)"
   ]
  },
  {
   "cell_type": "code",
   "execution_count": 12,
   "id": "909cb785",
   "metadata": {},
   "outputs": [
    {
     "data": {
      "text/plain": [
       "True"
      ]
     },
     "execution_count": 12,
     "metadata": {},
     "output_type": "execute_result"
    }
   ],
   "source": [
    "cv2.imwrite(\"C:/Users/aedpu/HASAN_CSE_AI/Median Blur.jpg\",medi)"
   ]
  },
  {
   "cell_type": "code",
   "execution_count": 18,
   "id": "cd9fb29a",
   "metadata": {},
   "outputs": [],
   "source": [
    "bilat = cv2.bilateralFilter(img,50,50,50)"
   ]
  },
  {
   "cell_type": "code",
   "execution_count": 19,
   "id": "51682f4b",
   "metadata": {},
   "outputs": [
    {
     "data": {
      "text/plain": [
       "-1"
      ]
     },
     "execution_count": 19,
     "metadata": {},
     "output_type": "execute_result"
    }
   ],
   "source": [
    "cv2.imshow(\"Original\",img)\n",
    "cv2.waitKey(0)\n",
    "cv2.imshow(\"Bilateral\",bilat)\n",
    "cv2.waitKey(0)"
   ]
  },
  {
   "cell_type": "code",
   "execution_count": 20,
   "id": "9c007f81",
   "metadata": {},
   "outputs": [
    {
     "data": {
      "text/plain": [
       "True"
      ]
     },
     "execution_count": 20,
     "metadata": {},
     "output_type": "execute_result"
    }
   ],
   "source": [
    "cv2.imwrite(\"C:/Users/aedpu/HASAN_CSE_AI/Bilateral filter.jpg\",bilat)"
   ]
  },
  {
   "cell_type": "code",
   "execution_count": null,
   "id": "c60f9f76",
   "metadata": {},
   "outputs": [],
   "source": []
  }
 ],
 "metadata": {
  "kernelspec": {
   "display_name": "Python 3 (ipykernel)",
   "language": "python",
   "name": "python3"
  },
  "language_info": {
   "codemirror_mode": {
    "name": "ipython",
    "version": 3
   },
   "file_extension": ".py",
   "mimetype": "text/x-python",
   "name": "python",
   "nbconvert_exporter": "python",
   "pygments_lexer": "ipython3",
   "version": "3.9.16"
  }
 },
 "nbformat": 4,
 "nbformat_minor": 5
}
